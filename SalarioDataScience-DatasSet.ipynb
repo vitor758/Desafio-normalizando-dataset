{
  "cells": [
    {
      "cell_type": "markdown",
      "metadata": {
        "id": "Y2XVZUttUYtT"
      },
      "source": [
        "\n",
        "\n",
        "---\n",
        "\n",
        "\n",
        "###### **Contexto e objetivo:** \n",
        "**Este conjunto de dados contem empresas, cargos, frequencia de salários reportados, localização e o valor salário de profissionais que operam na área de análise de dados. O objetivo  é estruturar as informações e analisarmos sem equivocos. Plotar gráficos e analisar de forma descritiva.**\n",
        "\n",
        "\n",
        "---\n",
        "\n",
        "\n"
      ]
    },
    {
      "cell_type": "markdown",
      "metadata": {
        "id": "LjkjUT3v3q78"
      },
      "source": [
        "### Importanto as bibliotecas necessárias"
      ]
    },
    {
      "cell_type": "code",
      "execution_count": null,
      "metadata": {
        "id": "dzStG8jz38Ou"
      },
      "outputs": [],
      "source": [
        "import pandas as pd\n",
        "import seaborn as sns\n",
        "import numpy as np\n",
        "%matplotlib inline\n",
        "import matplotlib as plt"
      ]
    },
    {
      "cell_type": "markdown",
      "metadata": {
        "id": "1neP3oBE3_nE"
      },
      "source": [
        "### Importando o dataset"
      ]
    },
    {
      "cell_type": "code",
      "execution_count": null,
      "metadata": {
        "id": "qsrDcemY4EFN"
      },
      "outputs": [],
      "source": [
        "dadosOriginal = pd.read_csv('SalaryDataset.csv')\n",
        "dados = dadosOriginal.copy()"
      ]
    },
    {
      "cell_type": "markdown",
      "metadata": {
        "id": "3ZOIb4Ru4HSU"
      },
      "source": [
        "### Visualizando o dataset\n",
        "---\n",
        "https://www.kaggle.com/iamsouravbanerjee/analytics-industry-salaries-2022-india\n",
        "\n"
      ]
    },
    {
      "cell_type": "code",
      "execution_count": null,
      "metadata": {
        "colab": {
          "base_uri": "https://localhost:8080/",
          "height": 206
        },
        "id": "B753e7ZKUWW3",
        "outputId": "0303ccfe-7d6a-4b46-b028-2c8e1bbc7877"
      },
      "outputs": [
        {
          "output_type": "execute_result",
          "data": {
            "text/plain": [
              "                Company Name       Job Title  Salaries Reported   Location  \\\n",
              "0                   Mu Sigma  Data Scientist              105.0  Bangalore   \n",
              "1                        IBM  Data Scientist               95.0  Bangalore   \n",
              "2  Tata Consultancy Services  Data Scientist               66.0  Bangalore   \n",
              "3           Impact Analytics  Data Scientist               40.0  Bangalore   \n",
              "4                  Accenture  Data Scientist               32.0  Bangalore   \n",
              "\n",
              "          Salary  \n",
              "0   ₹6,48,573/yr  \n",
              "1  ₹11,91,950/yr  \n",
              "2   ₹8,36,874/yr  \n",
              "3   ₹6,69,578/yr  \n",
              "4   ₹9,44,110/yr  "
            ],
            "text/html": [
              "\n",
              "  <div id=\"df-efba136e-0919-4879-8a8f-20bd289b494c\">\n",
              "    <div class=\"colab-df-container\">\n",
              "      <div>\n",
              "<style scoped>\n",
              "    .dataframe tbody tr th:only-of-type {\n",
              "        vertical-align: middle;\n",
              "    }\n",
              "\n",
              "    .dataframe tbody tr th {\n",
              "        vertical-align: top;\n",
              "    }\n",
              "\n",
              "    .dataframe thead th {\n",
              "        text-align: right;\n",
              "    }\n",
              "</style>\n",
              "<table border=\"1\" class=\"dataframe\">\n",
              "  <thead>\n",
              "    <tr style=\"text-align: right;\">\n",
              "      <th></th>\n",
              "      <th>Company Name</th>\n",
              "      <th>Job Title</th>\n",
              "      <th>Salaries Reported</th>\n",
              "      <th>Location</th>\n",
              "      <th>Salary</th>\n",
              "    </tr>\n",
              "  </thead>\n",
              "  <tbody>\n",
              "    <tr>\n",
              "      <th>0</th>\n",
              "      <td>Mu Sigma</td>\n",
              "      <td>Data Scientist</td>\n",
              "      <td>105.0</td>\n",
              "      <td>Bangalore</td>\n",
              "      <td>₹6,48,573/yr</td>\n",
              "    </tr>\n",
              "    <tr>\n",
              "      <th>1</th>\n",
              "      <td>IBM</td>\n",
              "      <td>Data Scientist</td>\n",
              "      <td>95.0</td>\n",
              "      <td>Bangalore</td>\n",
              "      <td>₹11,91,950/yr</td>\n",
              "    </tr>\n",
              "    <tr>\n",
              "      <th>2</th>\n",
              "      <td>Tata Consultancy Services</td>\n",
              "      <td>Data Scientist</td>\n",
              "      <td>66.0</td>\n",
              "      <td>Bangalore</td>\n",
              "      <td>₹8,36,874/yr</td>\n",
              "    </tr>\n",
              "    <tr>\n",
              "      <th>3</th>\n",
              "      <td>Impact Analytics</td>\n",
              "      <td>Data Scientist</td>\n",
              "      <td>40.0</td>\n",
              "      <td>Bangalore</td>\n",
              "      <td>₹6,69,578/yr</td>\n",
              "    </tr>\n",
              "    <tr>\n",
              "      <th>4</th>\n",
              "      <td>Accenture</td>\n",
              "      <td>Data Scientist</td>\n",
              "      <td>32.0</td>\n",
              "      <td>Bangalore</td>\n",
              "      <td>₹9,44,110/yr</td>\n",
              "    </tr>\n",
              "  </tbody>\n",
              "</table>\n",
              "</div>\n",
              "      <button class=\"colab-df-convert\" onclick=\"convertToInteractive('df-efba136e-0919-4879-8a8f-20bd289b494c')\"\n",
              "              title=\"Convert this dataframe to an interactive table.\"\n",
              "              style=\"display:none;\">\n",
              "        \n",
              "  <svg xmlns=\"http://www.w3.org/2000/svg\" height=\"24px\"viewBox=\"0 0 24 24\"\n",
              "       width=\"24px\">\n",
              "    <path d=\"M0 0h24v24H0V0z\" fill=\"none\"/>\n",
              "    <path d=\"M18.56 5.44l.94 2.06.94-2.06 2.06-.94-2.06-.94-.94-2.06-.94 2.06-2.06.94zm-11 1L8.5 8.5l.94-2.06 2.06-.94-2.06-.94L8.5 2.5l-.94 2.06-2.06.94zm10 10l.94 2.06.94-2.06 2.06-.94-2.06-.94-.94-2.06-.94 2.06-2.06.94z\"/><path d=\"M17.41 7.96l-1.37-1.37c-.4-.4-.92-.59-1.43-.59-.52 0-1.04.2-1.43.59L10.3 9.45l-7.72 7.72c-.78.78-.78 2.05 0 2.83L4 21.41c.39.39.9.59 1.41.59.51 0 1.02-.2 1.41-.59l7.78-7.78 2.81-2.81c.8-.78.8-2.07 0-2.86zM5.41 20L4 18.59l7.72-7.72 1.47 1.35L5.41 20z\"/>\n",
              "  </svg>\n",
              "      </button>\n",
              "      \n",
              "  <style>\n",
              "    .colab-df-container {\n",
              "      display:flex;\n",
              "      flex-wrap:wrap;\n",
              "      gap: 12px;\n",
              "    }\n",
              "\n",
              "    .colab-df-convert {\n",
              "      background-color: #E8F0FE;\n",
              "      border: none;\n",
              "      border-radius: 50%;\n",
              "      cursor: pointer;\n",
              "      display: none;\n",
              "      fill: #1967D2;\n",
              "      height: 32px;\n",
              "      padding: 0 0 0 0;\n",
              "      width: 32px;\n",
              "    }\n",
              "\n",
              "    .colab-df-convert:hover {\n",
              "      background-color: #E2EBFA;\n",
              "      box-shadow: 0px 1px 2px rgba(60, 64, 67, 0.3), 0px 1px 3px 1px rgba(60, 64, 67, 0.15);\n",
              "      fill: #174EA6;\n",
              "    }\n",
              "\n",
              "    [theme=dark] .colab-df-convert {\n",
              "      background-color: #3B4455;\n",
              "      fill: #D2E3FC;\n",
              "    }\n",
              "\n",
              "    [theme=dark] .colab-df-convert:hover {\n",
              "      background-color: #434B5C;\n",
              "      box-shadow: 0px 1px 3px 1px rgba(0, 0, 0, 0.15);\n",
              "      filter: drop-shadow(0px 1px 2px rgba(0, 0, 0, 0.3));\n",
              "      fill: #FFFFFF;\n",
              "    }\n",
              "  </style>\n",
              "\n",
              "      <script>\n",
              "        const buttonEl =\n",
              "          document.querySelector('#df-efba136e-0919-4879-8a8f-20bd289b494c button.colab-df-convert');\n",
              "        buttonEl.style.display =\n",
              "          google.colab.kernel.accessAllowed ? 'block' : 'none';\n",
              "\n",
              "        async function convertToInteractive(key) {\n",
              "          const element = document.querySelector('#df-efba136e-0919-4879-8a8f-20bd289b494c');\n",
              "          const dataTable =\n",
              "            await google.colab.kernel.invokeFunction('convertToInteractive',\n",
              "                                                     [key], {});\n",
              "          if (!dataTable) return;\n",
              "\n",
              "          const docLinkHtml = 'Like what you see? Visit the ' +\n",
              "            '<a target=\"_blank\" href=https://colab.research.google.com/notebooks/data_table.ipynb>data table notebook</a>'\n",
              "            + ' to learn more about interactive tables.';\n",
              "          element.innerHTML = '';\n",
              "          dataTable['output_type'] = 'display_data';\n",
              "          await google.colab.output.renderOutput(dataTable, element);\n",
              "          const docLink = document.createElement('div');\n",
              "          docLink.innerHTML = docLinkHtml;\n",
              "          element.appendChild(docLink);\n",
              "        }\n",
              "      </script>\n",
              "    </div>\n",
              "  </div>\n",
              "  "
            ]
          },
          "metadata": {},
          "execution_count": 4
        }
      ],
      "source": [
        "dados.head()"
      ]
    },
    {
      "cell_type": "markdown",
      "metadata": {
        "id": "TVVTXdrgW2IM"
      },
      "source": [
        "### Conhecendo estrutura de dados, e cortando valores nulos"
      ]
    },
    {
      "cell_type": "code",
      "execution_count": null,
      "metadata": {
        "colab": {
          "base_uri": "https://localhost:8080/"
        },
        "id": "AO8oRDBfV51D",
        "outputId": "2fd28118-0b6f-4e09-b38c-fd4de6e14792"
      },
      "outputs": [
        {
          "output_type": "stream",
          "name": "stdout",
          "text": [
            "Number of rows and columns (4344, 5)\n",
            "Number of null values 5\n"
          ]
        }
      ],
      "source": [
        "# Dimenssão e valores nulos\n",
        "print('Numero de linhas e colunas',dados.shape)\n",
        "print('Numero de valores nulos', dados.isna().sum().sum())"
      ]
    },
    {
      "cell_type": "code",
      "source": [
        "dados.isna().sum()"
      ],
      "metadata": {
        "colab": {
          "base_uri": "https://localhost:8080/"
        },
        "id": "laarOGeUZqVT",
        "outputId": "c25789b5-f135-4886-908f-1b18f961ce32"
      },
      "execution_count": null,
      "outputs": [
        {
          "output_type": "execute_result",
          "data": {
            "text/plain": [
              "Company Name         3\n",
              "Job Title            0\n",
              "Salaries Reported    2\n",
              "Location             0\n",
              "Salary               0\n",
              "dtype: int64"
            ]
          },
          "metadata": {},
          "execution_count": 6
        }
      ]
    },
    {
      "cell_type": "code",
      "source": [
        "# Cortando as linhas que contem valores nulos\n",
        "dados = dados.dropna()\n",
        "print('Number of null values', dados.isna().sum().sum())"
      ],
      "metadata": {
        "id": "mOD4RaJyZvXk",
        "colab": {
          "base_uri": "https://localhost:8080/"
        },
        "outputId": "503e3286-760d-4b1d-8053-e2aa1b06829c"
      },
      "execution_count": null,
      "outputs": [
        {
          "output_type": "stream",
          "name": "stdout",
          "text": [
            "Number of null values 0\n"
          ]
        }
      ]
    },
    {
      "cell_type": "code",
      "source": [
        "# Dentre os salários informados, foi localizado um único salário que esta na moeda do afeganistão 'AFN', Decidi cortala do dataset\n",
        "dados.query('Salary == \"AFN 1,56,179/yr\"')\n",
        "dados.drop(index=2278,inplace=True)\n",
        "dados = dados.reset_index(drop=True)"
      ],
      "metadata": {
        "id": "VJxcChLnWDXd"
      },
      "execution_count": null,
      "outputs": []
    },
    {
      "cell_type": "code",
      "source": [
        "# Renomeando colunas\n",
        "dados.rename(columns={'Company Name': 'Company_Name'}, inplace = True)\n",
        "dados.rename(columns={'Job Title': 'Job_Title'}, inplace = True)\n",
        "dados.rename(columns={'Salaries Reported': 'Salaries_Reported'}, inplace = True)"
      ],
      "metadata": {
        "id": "WNhEEbnx-wSW"
      },
      "execution_count": null,
      "outputs": []
    },
    {
      "cell_type": "markdown",
      "source": [
        "\n",
        "\n",
        "---\n",
        "\n",
        "\n",
        "\n",
        "\n",
        "##### **Processo de desmembramento dos dados no campo salario: exemplo (₹6,48,573/yr),  é possivel ver 'moeda'  +  'salario'  +  'periodo_salarial'**"
      ],
      "metadata": {
        "id": "iyX4DSoz7RXm"
      }
    },
    {
      "cell_type": "code",
      "execution_count": null,
      "metadata": {
        "id": "X7yeteiTaYJ4",
        "colab": {
          "base_uri": "https://localhost:8080/",
          "height": 206
        },
        "outputId": "9fb31f04-4a6f-4b4e-efdc-bd0aa4c7e15c"
      },
      "outputs": [
        {
          "output_type": "execute_result",
          "data": {
            "text/plain": [
              "                Company_Name       Job_Title  Salaries_Reported   Location  \\\n",
              "0                   Mu Sigma  Data Scientist              105.0  Bangalore   \n",
              "1                        IBM  Data Scientist               95.0  Bangalore   \n",
              "2  Tata Consultancy Services  Data Scientist               66.0  Bangalore   \n",
              "3           Impact Analytics  Data Scientist               40.0  Bangalore   \n",
              "4                  Accenture  Data Scientist               32.0  Bangalore   \n",
              "\n",
              "  Currency_original Time_original  Salary_original  \n",
              "0                 ₹            yr         648573.0  \n",
              "1                 ₹            yr        1191950.0  \n",
              "2                 ₹            yr         836874.0  \n",
              "3                 ₹            yr         669578.0  \n",
              "4                 ₹            yr         944110.0  "
            ],
            "text/html": [
              "\n",
              "  <div id=\"df-3d0dced7-d33f-4f50-b936-9e7cd3c10941\">\n",
              "    <div class=\"colab-df-container\">\n",
              "      <div>\n",
              "<style scoped>\n",
              "    .dataframe tbody tr th:only-of-type {\n",
              "        vertical-align: middle;\n",
              "    }\n",
              "\n",
              "    .dataframe tbody tr th {\n",
              "        vertical-align: top;\n",
              "    }\n",
              "\n",
              "    .dataframe thead th {\n",
              "        text-align: right;\n",
              "    }\n",
              "</style>\n",
              "<table border=\"1\" class=\"dataframe\">\n",
              "  <thead>\n",
              "    <tr style=\"text-align: right;\">\n",
              "      <th></th>\n",
              "      <th>Company_Name</th>\n",
              "      <th>Job_Title</th>\n",
              "      <th>Salaries_Reported</th>\n",
              "      <th>Location</th>\n",
              "      <th>Currency_original</th>\n",
              "      <th>Time_original</th>\n",
              "      <th>Salary_original</th>\n",
              "    </tr>\n",
              "  </thead>\n",
              "  <tbody>\n",
              "    <tr>\n",
              "      <th>0</th>\n",
              "      <td>Mu Sigma</td>\n",
              "      <td>Data Scientist</td>\n",
              "      <td>105.0</td>\n",
              "      <td>Bangalore</td>\n",
              "      <td>₹</td>\n",
              "      <td>yr</td>\n",
              "      <td>648573.0</td>\n",
              "    </tr>\n",
              "    <tr>\n",
              "      <th>1</th>\n",
              "      <td>IBM</td>\n",
              "      <td>Data Scientist</td>\n",
              "      <td>95.0</td>\n",
              "      <td>Bangalore</td>\n",
              "      <td>₹</td>\n",
              "      <td>yr</td>\n",
              "      <td>1191950.0</td>\n",
              "    </tr>\n",
              "    <tr>\n",
              "      <th>2</th>\n",
              "      <td>Tata Consultancy Services</td>\n",
              "      <td>Data Scientist</td>\n",
              "      <td>66.0</td>\n",
              "      <td>Bangalore</td>\n",
              "      <td>₹</td>\n",
              "      <td>yr</td>\n",
              "      <td>836874.0</td>\n",
              "    </tr>\n",
              "    <tr>\n",
              "      <th>3</th>\n",
              "      <td>Impact Analytics</td>\n",
              "      <td>Data Scientist</td>\n",
              "      <td>40.0</td>\n",
              "      <td>Bangalore</td>\n",
              "      <td>₹</td>\n",
              "      <td>yr</td>\n",
              "      <td>669578.0</td>\n",
              "    </tr>\n",
              "    <tr>\n",
              "      <th>4</th>\n",
              "      <td>Accenture</td>\n",
              "      <td>Data Scientist</td>\n",
              "      <td>32.0</td>\n",
              "      <td>Bangalore</td>\n",
              "      <td>₹</td>\n",
              "      <td>yr</td>\n",
              "      <td>944110.0</td>\n",
              "    </tr>\n",
              "  </tbody>\n",
              "</table>\n",
              "</div>\n",
              "      <button class=\"colab-df-convert\" onclick=\"convertToInteractive('df-3d0dced7-d33f-4f50-b936-9e7cd3c10941')\"\n",
              "              title=\"Convert this dataframe to an interactive table.\"\n",
              "              style=\"display:none;\">\n",
              "        \n",
              "  <svg xmlns=\"http://www.w3.org/2000/svg\" height=\"24px\"viewBox=\"0 0 24 24\"\n",
              "       width=\"24px\">\n",
              "    <path d=\"M0 0h24v24H0V0z\" fill=\"none\"/>\n",
              "    <path d=\"M18.56 5.44l.94 2.06.94-2.06 2.06-.94-2.06-.94-.94-2.06-.94 2.06-2.06.94zm-11 1L8.5 8.5l.94-2.06 2.06-.94-2.06-.94L8.5 2.5l-.94 2.06-2.06.94zm10 10l.94 2.06.94-2.06 2.06-.94-2.06-.94-.94-2.06-.94 2.06-2.06.94z\"/><path d=\"M17.41 7.96l-1.37-1.37c-.4-.4-.92-.59-1.43-.59-.52 0-1.04.2-1.43.59L10.3 9.45l-7.72 7.72c-.78.78-.78 2.05 0 2.83L4 21.41c.39.39.9.59 1.41.59.51 0 1.02-.2 1.41-.59l7.78-7.78 2.81-2.81c.8-.78.8-2.07 0-2.86zM5.41 20L4 18.59l7.72-7.72 1.47 1.35L5.41 20z\"/>\n",
              "  </svg>\n",
              "      </button>\n",
              "      \n",
              "  <style>\n",
              "    .colab-df-container {\n",
              "      display:flex;\n",
              "      flex-wrap:wrap;\n",
              "      gap: 12px;\n",
              "    }\n",
              "\n",
              "    .colab-df-convert {\n",
              "      background-color: #E8F0FE;\n",
              "      border: none;\n",
              "      border-radius: 50%;\n",
              "      cursor: pointer;\n",
              "      display: none;\n",
              "      fill: #1967D2;\n",
              "      height: 32px;\n",
              "      padding: 0 0 0 0;\n",
              "      width: 32px;\n",
              "    }\n",
              "\n",
              "    .colab-df-convert:hover {\n",
              "      background-color: #E2EBFA;\n",
              "      box-shadow: 0px 1px 2px rgba(60, 64, 67, 0.3), 0px 1px 3px 1px rgba(60, 64, 67, 0.15);\n",
              "      fill: #174EA6;\n",
              "    }\n",
              "\n",
              "    [theme=dark] .colab-df-convert {\n",
              "      background-color: #3B4455;\n",
              "      fill: #D2E3FC;\n",
              "    }\n",
              "\n",
              "    [theme=dark] .colab-df-convert:hover {\n",
              "      background-color: #434B5C;\n",
              "      box-shadow: 0px 1px 3px 1px rgba(0, 0, 0, 0.15);\n",
              "      filter: drop-shadow(0px 1px 2px rgba(0, 0, 0, 0.3));\n",
              "      fill: #FFFFFF;\n",
              "    }\n",
              "  </style>\n",
              "\n",
              "      <script>\n",
              "        const buttonEl =\n",
              "          document.querySelector('#df-3d0dced7-d33f-4f50-b936-9e7cd3c10941 button.colab-df-convert');\n",
              "        buttonEl.style.display =\n",
              "          google.colab.kernel.accessAllowed ? 'block' : 'none';\n",
              "\n",
              "        async function convertToInteractive(key) {\n",
              "          const element = document.querySelector('#df-3d0dced7-d33f-4f50-b936-9e7cd3c10941');\n",
              "          const dataTable =\n",
              "            await google.colab.kernel.invokeFunction('convertToInteractive',\n",
              "                                                     [key], {});\n",
              "          if (!dataTable) return;\n",
              "\n",
              "          const docLinkHtml = 'Like what you see? Visit the ' +\n",
              "            '<a target=\"_blank\" href=https://colab.research.google.com/notebooks/data_table.ipynb>data table notebook</a>'\n",
              "            + ' to learn more about interactive tables.';\n",
              "          element.innerHTML = '';\n",
              "          dataTable['output_type'] = 'display_data';\n",
              "          await google.colab.output.renderOutput(dataTable, element);\n",
              "          const docLink = document.createElement('div');\n",
              "          docLink.innerHTML = docLinkHtml;\n",
              "          element.appendChild(docLink);\n",
              "        }\n",
              "      </script>\n",
              "    </div>\n",
              "  </div>\n",
              "  "
            ]
          },
          "metadata": {},
          "execution_count": 10
        }
      ],
      "source": [
        "# Coletando a moeda\n",
        "Currency = []\n",
        "for i in dados.Salary:\n",
        "  Currency.append(i[0])\n",
        "dados['Currency_original'] = Currency\n",
        "\n",
        "# Coletando Time\n",
        "Time = []\n",
        "for i in dados.Salary:\n",
        "  Time.append(i[-2:])\n",
        "dados['Time_original'] = Time\n",
        "\n",
        "# Coletando o Salario\n",
        "SalaryClean = []\n",
        "for i in dados.Salary:\n",
        "    SalaryClean.append(float(i[1:-3].replace(',','')))\n",
        "dados.drop('Salary', axis='columns', inplace=True)\n",
        "dados['Salary_original'] = SalaryClean\n",
        "\n",
        "# Para cada valor extraido foi criado uma nova coluna no dataset\n",
        "dados.head()\n"
      ]
    },
    {
      "cell_type": "markdown",
      "source": [
        "---\n",
        "##### **Será criado uma nova variável no dataset para que sejá observado que o salário será modificado para a moeda $, tambem será criado uma nova variável para que seja observado que o novo modelo de pagamento do salario será Anual (yr) e por fim os salários que não são anuais passarão a ser.**\n",
        "---\n"
      ],
      "metadata": {
        "id": "qoDIeTtFBiAZ"
      }
    },
    {
      "cell_type": "code",
      "source": [
        "#Moeda ₹ e £ para dollar\n",
        "Currency_modified = []\n",
        "for i in dados.Currency_original\t:\n",
        "  Currency_modified.append(i.replace('₹', '$').replace('£','$'))\n",
        "dados['Currency_modified'] = Currency_modified\n",
        "\n",
        "\n",
        "# Criando uma nova variável que indicara o novo modelo de salario\n",
        "Time_modified = []\n",
        "for i in dados.Time_original:\n",
        "  Time_modified.append(i.replace('mo', 'yr').replace('hr','yr'))\n",
        "dados['Time_modified'] = Time_modified\n",
        "\n",
        "\n",
        "# Salario 'mo' e 'hr' para 'yr'\n",
        "Salary_modified = []\n",
        "for i in list(dados[['Time_original','Salary_original']].values):\n",
        "  if i[0] == 'mo':\n",
        "    Salary_modified.append(i[1] * 12)\n",
        "  elif i[0] == 'hr':\n",
        "    Salary_modified.append(i[1] * 2640)\n",
        "  else:\n",
        "    Salary_modified.append(i[1])\n",
        "dados['Salary_modified'] = Salary_modified \n",
        "\n",
        "dados.head()"
      ],
      "metadata": {
        "colab": {
          "base_uri": "https://localhost:8080/",
          "height": 206
        },
        "id": "-CZMogauwW2H",
        "outputId": "bdc3f79d-95f9-4753-ce80-12cdecc92eff"
      },
      "execution_count": null,
      "outputs": [
        {
          "output_type": "execute_result",
          "data": {
            "text/plain": [
              "                Company_Name       Job_Title  Salaries_Reported   Location  \\\n",
              "0                   Mu Sigma  Data Scientist              105.0  Bangalore   \n",
              "1                        IBM  Data Scientist               95.0  Bangalore   \n",
              "2  Tata Consultancy Services  Data Scientist               66.0  Bangalore   \n",
              "3           Impact Analytics  Data Scientist               40.0  Bangalore   \n",
              "4                  Accenture  Data Scientist               32.0  Bangalore   \n",
              "\n",
              "  Currency_original Time_original  Salary_original Currency_modified  \\\n",
              "0                 ₹            yr         648573.0                 $   \n",
              "1                 ₹            yr        1191950.0                 $   \n",
              "2                 ₹            yr         836874.0                 $   \n",
              "3                 ₹            yr         669578.0                 $   \n",
              "4                 ₹            yr         944110.0                 $   \n",
              "\n",
              "  Time_modified  Salary_modified  \n",
              "0            yr         648573.0  \n",
              "1            yr        1191950.0  \n",
              "2            yr         836874.0  \n",
              "3            yr         669578.0  \n",
              "4            yr         944110.0  "
            ],
            "text/html": [
              "\n",
              "  <div id=\"df-2eeb0480-708d-4586-805e-e4731d439400\">\n",
              "    <div class=\"colab-df-container\">\n",
              "      <div>\n",
              "<style scoped>\n",
              "    .dataframe tbody tr th:only-of-type {\n",
              "        vertical-align: middle;\n",
              "    }\n",
              "\n",
              "    .dataframe tbody tr th {\n",
              "        vertical-align: top;\n",
              "    }\n",
              "\n",
              "    .dataframe thead th {\n",
              "        text-align: right;\n",
              "    }\n",
              "</style>\n",
              "<table border=\"1\" class=\"dataframe\">\n",
              "  <thead>\n",
              "    <tr style=\"text-align: right;\">\n",
              "      <th></th>\n",
              "      <th>Company_Name</th>\n",
              "      <th>Job_Title</th>\n",
              "      <th>Salaries_Reported</th>\n",
              "      <th>Location</th>\n",
              "      <th>Currency_original</th>\n",
              "      <th>Time_original</th>\n",
              "      <th>Salary_original</th>\n",
              "      <th>Currency_modified</th>\n",
              "      <th>Time_modified</th>\n",
              "      <th>Salary_modified</th>\n",
              "    </tr>\n",
              "  </thead>\n",
              "  <tbody>\n",
              "    <tr>\n",
              "      <th>0</th>\n",
              "      <td>Mu Sigma</td>\n",
              "      <td>Data Scientist</td>\n",
              "      <td>105.0</td>\n",
              "      <td>Bangalore</td>\n",
              "      <td>₹</td>\n",
              "      <td>yr</td>\n",
              "      <td>648573.0</td>\n",
              "      <td>$</td>\n",
              "      <td>yr</td>\n",
              "      <td>648573.0</td>\n",
              "    </tr>\n",
              "    <tr>\n",
              "      <th>1</th>\n",
              "      <td>IBM</td>\n",
              "      <td>Data Scientist</td>\n",
              "      <td>95.0</td>\n",
              "      <td>Bangalore</td>\n",
              "      <td>₹</td>\n",
              "      <td>yr</td>\n",
              "      <td>1191950.0</td>\n",
              "      <td>$</td>\n",
              "      <td>yr</td>\n",
              "      <td>1191950.0</td>\n",
              "    </tr>\n",
              "    <tr>\n",
              "      <th>2</th>\n",
              "      <td>Tata Consultancy Services</td>\n",
              "      <td>Data Scientist</td>\n",
              "      <td>66.0</td>\n",
              "      <td>Bangalore</td>\n",
              "      <td>₹</td>\n",
              "      <td>yr</td>\n",
              "      <td>836874.0</td>\n",
              "      <td>$</td>\n",
              "      <td>yr</td>\n",
              "      <td>836874.0</td>\n",
              "    </tr>\n",
              "    <tr>\n",
              "      <th>3</th>\n",
              "      <td>Impact Analytics</td>\n",
              "      <td>Data Scientist</td>\n",
              "      <td>40.0</td>\n",
              "      <td>Bangalore</td>\n",
              "      <td>₹</td>\n",
              "      <td>yr</td>\n",
              "      <td>669578.0</td>\n",
              "      <td>$</td>\n",
              "      <td>yr</td>\n",
              "      <td>669578.0</td>\n",
              "    </tr>\n",
              "    <tr>\n",
              "      <th>4</th>\n",
              "      <td>Accenture</td>\n",
              "      <td>Data Scientist</td>\n",
              "      <td>32.0</td>\n",
              "      <td>Bangalore</td>\n",
              "      <td>₹</td>\n",
              "      <td>yr</td>\n",
              "      <td>944110.0</td>\n",
              "      <td>$</td>\n",
              "      <td>yr</td>\n",
              "      <td>944110.0</td>\n",
              "    </tr>\n",
              "  </tbody>\n",
              "</table>\n",
              "</div>\n",
              "      <button class=\"colab-df-convert\" onclick=\"convertToInteractive('df-2eeb0480-708d-4586-805e-e4731d439400')\"\n",
              "              title=\"Convert this dataframe to an interactive table.\"\n",
              "              style=\"display:none;\">\n",
              "        \n",
              "  <svg xmlns=\"http://www.w3.org/2000/svg\" height=\"24px\"viewBox=\"0 0 24 24\"\n",
              "       width=\"24px\">\n",
              "    <path d=\"M0 0h24v24H0V0z\" fill=\"none\"/>\n",
              "    <path d=\"M18.56 5.44l.94 2.06.94-2.06 2.06-.94-2.06-.94-.94-2.06-.94 2.06-2.06.94zm-11 1L8.5 8.5l.94-2.06 2.06-.94-2.06-.94L8.5 2.5l-.94 2.06-2.06.94zm10 10l.94 2.06.94-2.06 2.06-.94-2.06-.94-.94-2.06-.94 2.06-2.06.94z\"/><path d=\"M17.41 7.96l-1.37-1.37c-.4-.4-.92-.59-1.43-.59-.52 0-1.04.2-1.43.59L10.3 9.45l-7.72 7.72c-.78.78-.78 2.05 0 2.83L4 21.41c.39.39.9.59 1.41.59.51 0 1.02-.2 1.41-.59l7.78-7.78 2.81-2.81c.8-.78.8-2.07 0-2.86zM5.41 20L4 18.59l7.72-7.72 1.47 1.35L5.41 20z\"/>\n",
              "  </svg>\n",
              "      </button>\n",
              "      \n",
              "  <style>\n",
              "    .colab-df-container {\n",
              "      display:flex;\n",
              "      flex-wrap:wrap;\n",
              "      gap: 12px;\n",
              "    }\n",
              "\n",
              "    .colab-df-convert {\n",
              "      background-color: #E8F0FE;\n",
              "      border: none;\n",
              "      border-radius: 50%;\n",
              "      cursor: pointer;\n",
              "      display: none;\n",
              "      fill: #1967D2;\n",
              "      height: 32px;\n",
              "      padding: 0 0 0 0;\n",
              "      width: 32px;\n",
              "    }\n",
              "\n",
              "    .colab-df-convert:hover {\n",
              "      background-color: #E2EBFA;\n",
              "      box-shadow: 0px 1px 2px rgba(60, 64, 67, 0.3), 0px 1px 3px 1px rgba(60, 64, 67, 0.15);\n",
              "      fill: #174EA6;\n",
              "    }\n",
              "\n",
              "    [theme=dark] .colab-df-convert {\n",
              "      background-color: #3B4455;\n",
              "      fill: #D2E3FC;\n",
              "    }\n",
              "\n",
              "    [theme=dark] .colab-df-convert:hover {\n",
              "      background-color: #434B5C;\n",
              "      box-shadow: 0px 1px 3px 1px rgba(0, 0, 0, 0.15);\n",
              "      filter: drop-shadow(0px 1px 2px rgba(0, 0, 0, 0.3));\n",
              "      fill: #FFFFFF;\n",
              "    }\n",
              "  </style>\n",
              "\n",
              "      <script>\n",
              "        const buttonEl =\n",
              "          document.querySelector('#df-2eeb0480-708d-4586-805e-e4731d439400 button.colab-df-convert');\n",
              "        buttonEl.style.display =\n",
              "          google.colab.kernel.accessAllowed ? 'block' : 'none';\n",
              "\n",
              "        async function convertToInteractive(key) {\n",
              "          const element = document.querySelector('#df-2eeb0480-708d-4586-805e-e4731d439400');\n",
              "          const dataTable =\n",
              "            await google.colab.kernel.invokeFunction('convertToInteractive',\n",
              "                                                     [key], {});\n",
              "          if (!dataTable) return;\n",
              "\n",
              "          const docLinkHtml = 'Like what you see? Visit the ' +\n",
              "            '<a target=\"_blank\" href=https://colab.research.google.com/notebooks/data_table.ipynb>data table notebook</a>'\n",
              "            + ' to learn more about interactive tables.';\n",
              "          element.innerHTML = '';\n",
              "          dataTable['output_type'] = 'display_data';\n",
              "          await google.colab.output.renderOutput(dataTable, element);\n",
              "          const docLink = document.createElement('div');\n",
              "          docLink.innerHTML = docLinkHtml;\n",
              "          element.appendChild(docLink);\n",
              "        }\n",
              "      </script>\n",
              "    </div>\n",
              "  </div>\n",
              "  "
            ]
          },
          "metadata": {},
          "execution_count": 11
        }
      ]
    },
    {
      "cell_type": "code",
      "source": [
        "# Agora será feita a conversão monetaria de ₹ e £ para dollar\n",
        "Salary_modified_2 = []\n",
        "for i in list(dados[['Currency_original','Salary_original']].values):\n",
        "  if i[0] == '₹':\n",
        "    Salary_modified_2.append(int(round(i[1] * 0.01307))) # Valor 0.01307 será utilizado para o cambio, data base 03/22\n",
        "  elif i[0] == '£':\n",
        "    Salary_modified_2.append(int(round(i[1] * 1.31))) # Valor 1.31 será utilizado para o cambio, data base 03/22\n",
        "  else:\n",
        "    Salary_modified_2.append(int(i[1]))\n",
        "dados.drop('Salary_modified', axis='columns', inplace = True)\n",
        "dados['Salary_modified'] = Salary_modified_2 \n",
        "dados.head()"
      ],
      "metadata": {
        "colab": {
          "base_uri": "https://localhost:8080/",
          "height": 206
        },
        "id": "apWwQ02b14vp",
        "outputId": "475f2f57-fcb6-4e16-e75b-e52bed6f93f3"
      },
      "execution_count": null,
      "outputs": [
        {
          "output_type": "execute_result",
          "data": {
            "text/plain": [
              "                Company_Name       Job_Title  Salaries_Reported   Location  \\\n",
              "0                   Mu Sigma  Data Scientist              105.0  Bangalore   \n",
              "1                        IBM  Data Scientist               95.0  Bangalore   \n",
              "2  Tata Consultancy Services  Data Scientist               66.0  Bangalore   \n",
              "3           Impact Analytics  Data Scientist               40.0  Bangalore   \n",
              "4                  Accenture  Data Scientist               32.0  Bangalore   \n",
              "\n",
              "  Currency_original Time_original  Salary_original Currency_modified  \\\n",
              "0                 ₹            yr         648573.0                 $   \n",
              "1                 ₹            yr        1191950.0                 $   \n",
              "2                 ₹            yr         836874.0                 $   \n",
              "3                 ₹            yr         669578.0                 $   \n",
              "4                 ₹            yr         944110.0                 $   \n",
              "\n",
              "  Time_modified  Salary_modified  \n",
              "0            yr             8477  \n",
              "1            yr            15579  \n",
              "2            yr            10938  \n",
              "3            yr             8751  \n",
              "4            yr            12340  "
            ],
            "text/html": [
              "\n",
              "  <div id=\"df-916802fe-cdb0-49cd-b91b-bbea10e25839\">\n",
              "    <div class=\"colab-df-container\">\n",
              "      <div>\n",
              "<style scoped>\n",
              "    .dataframe tbody tr th:only-of-type {\n",
              "        vertical-align: middle;\n",
              "    }\n",
              "\n",
              "    .dataframe tbody tr th {\n",
              "        vertical-align: top;\n",
              "    }\n",
              "\n",
              "    .dataframe thead th {\n",
              "        text-align: right;\n",
              "    }\n",
              "</style>\n",
              "<table border=\"1\" class=\"dataframe\">\n",
              "  <thead>\n",
              "    <tr style=\"text-align: right;\">\n",
              "      <th></th>\n",
              "      <th>Company_Name</th>\n",
              "      <th>Job_Title</th>\n",
              "      <th>Salaries_Reported</th>\n",
              "      <th>Location</th>\n",
              "      <th>Currency_original</th>\n",
              "      <th>Time_original</th>\n",
              "      <th>Salary_original</th>\n",
              "      <th>Currency_modified</th>\n",
              "      <th>Time_modified</th>\n",
              "      <th>Salary_modified</th>\n",
              "    </tr>\n",
              "  </thead>\n",
              "  <tbody>\n",
              "    <tr>\n",
              "      <th>0</th>\n",
              "      <td>Mu Sigma</td>\n",
              "      <td>Data Scientist</td>\n",
              "      <td>105.0</td>\n",
              "      <td>Bangalore</td>\n",
              "      <td>₹</td>\n",
              "      <td>yr</td>\n",
              "      <td>648573.0</td>\n",
              "      <td>$</td>\n",
              "      <td>yr</td>\n",
              "      <td>8477</td>\n",
              "    </tr>\n",
              "    <tr>\n",
              "      <th>1</th>\n",
              "      <td>IBM</td>\n",
              "      <td>Data Scientist</td>\n",
              "      <td>95.0</td>\n",
              "      <td>Bangalore</td>\n",
              "      <td>₹</td>\n",
              "      <td>yr</td>\n",
              "      <td>1191950.0</td>\n",
              "      <td>$</td>\n",
              "      <td>yr</td>\n",
              "      <td>15579</td>\n",
              "    </tr>\n",
              "    <tr>\n",
              "      <th>2</th>\n",
              "      <td>Tata Consultancy Services</td>\n",
              "      <td>Data Scientist</td>\n",
              "      <td>66.0</td>\n",
              "      <td>Bangalore</td>\n",
              "      <td>₹</td>\n",
              "      <td>yr</td>\n",
              "      <td>836874.0</td>\n",
              "      <td>$</td>\n",
              "      <td>yr</td>\n",
              "      <td>10938</td>\n",
              "    </tr>\n",
              "    <tr>\n",
              "      <th>3</th>\n",
              "      <td>Impact Analytics</td>\n",
              "      <td>Data Scientist</td>\n",
              "      <td>40.0</td>\n",
              "      <td>Bangalore</td>\n",
              "      <td>₹</td>\n",
              "      <td>yr</td>\n",
              "      <td>669578.0</td>\n",
              "      <td>$</td>\n",
              "      <td>yr</td>\n",
              "      <td>8751</td>\n",
              "    </tr>\n",
              "    <tr>\n",
              "      <th>4</th>\n",
              "      <td>Accenture</td>\n",
              "      <td>Data Scientist</td>\n",
              "      <td>32.0</td>\n",
              "      <td>Bangalore</td>\n",
              "      <td>₹</td>\n",
              "      <td>yr</td>\n",
              "      <td>944110.0</td>\n",
              "      <td>$</td>\n",
              "      <td>yr</td>\n",
              "      <td>12340</td>\n",
              "    </tr>\n",
              "  </tbody>\n",
              "</table>\n",
              "</div>\n",
              "      <button class=\"colab-df-convert\" onclick=\"convertToInteractive('df-916802fe-cdb0-49cd-b91b-bbea10e25839')\"\n",
              "              title=\"Convert this dataframe to an interactive table.\"\n",
              "              style=\"display:none;\">\n",
              "        \n",
              "  <svg xmlns=\"http://www.w3.org/2000/svg\" height=\"24px\"viewBox=\"0 0 24 24\"\n",
              "       width=\"24px\">\n",
              "    <path d=\"M0 0h24v24H0V0z\" fill=\"none\"/>\n",
              "    <path d=\"M18.56 5.44l.94 2.06.94-2.06 2.06-.94-2.06-.94-.94-2.06-.94 2.06-2.06.94zm-11 1L8.5 8.5l.94-2.06 2.06-.94-2.06-.94L8.5 2.5l-.94 2.06-2.06.94zm10 10l.94 2.06.94-2.06 2.06-.94-2.06-.94-.94-2.06-.94 2.06-2.06.94z\"/><path d=\"M17.41 7.96l-1.37-1.37c-.4-.4-.92-.59-1.43-.59-.52 0-1.04.2-1.43.59L10.3 9.45l-7.72 7.72c-.78.78-.78 2.05 0 2.83L4 21.41c.39.39.9.59 1.41.59.51 0 1.02-.2 1.41-.59l7.78-7.78 2.81-2.81c.8-.78.8-2.07 0-2.86zM5.41 20L4 18.59l7.72-7.72 1.47 1.35L5.41 20z\"/>\n",
              "  </svg>\n",
              "      </button>\n",
              "      \n",
              "  <style>\n",
              "    .colab-df-container {\n",
              "      display:flex;\n",
              "      flex-wrap:wrap;\n",
              "      gap: 12px;\n",
              "    }\n",
              "\n",
              "    .colab-df-convert {\n",
              "      background-color: #E8F0FE;\n",
              "      border: none;\n",
              "      border-radius: 50%;\n",
              "      cursor: pointer;\n",
              "      display: none;\n",
              "      fill: #1967D2;\n",
              "      height: 32px;\n",
              "      padding: 0 0 0 0;\n",
              "      width: 32px;\n",
              "    }\n",
              "\n",
              "    .colab-df-convert:hover {\n",
              "      background-color: #E2EBFA;\n",
              "      box-shadow: 0px 1px 2px rgba(60, 64, 67, 0.3), 0px 1px 3px 1px rgba(60, 64, 67, 0.15);\n",
              "      fill: #174EA6;\n",
              "    }\n",
              "\n",
              "    [theme=dark] .colab-df-convert {\n",
              "      background-color: #3B4455;\n",
              "      fill: #D2E3FC;\n",
              "    }\n",
              "\n",
              "    [theme=dark] .colab-df-convert:hover {\n",
              "      background-color: #434B5C;\n",
              "      box-shadow: 0px 1px 3px 1px rgba(0, 0, 0, 0.15);\n",
              "      filter: drop-shadow(0px 1px 2px rgba(0, 0, 0, 0.3));\n",
              "      fill: #FFFFFF;\n",
              "    }\n",
              "  </style>\n",
              "\n",
              "      <script>\n",
              "        const buttonEl =\n",
              "          document.querySelector('#df-916802fe-cdb0-49cd-b91b-bbea10e25839 button.colab-df-convert');\n",
              "        buttonEl.style.display =\n",
              "          google.colab.kernel.accessAllowed ? 'block' : 'none';\n",
              "\n",
              "        async function convertToInteractive(key) {\n",
              "          const element = document.querySelector('#df-916802fe-cdb0-49cd-b91b-bbea10e25839');\n",
              "          const dataTable =\n",
              "            await google.colab.kernel.invokeFunction('convertToInteractive',\n",
              "                                                     [key], {});\n",
              "          if (!dataTable) return;\n",
              "\n",
              "          const docLinkHtml = 'Like what you see? Visit the ' +\n",
              "            '<a target=\"_blank\" href=https://colab.research.google.com/notebooks/data_table.ipynb>data table notebook</a>'\n",
              "            + ' to learn more about interactive tables.';\n",
              "          element.innerHTML = '';\n",
              "          dataTable['output_type'] = 'display_data';\n",
              "          await google.colab.output.renderOutput(dataTable, element);\n",
              "          const docLink = document.createElement('div');\n",
              "          docLink.innerHTML = docLinkHtml;\n",
              "          element.appendChild(docLink);\n",
              "        }\n",
              "      </script>\n",
              "    </div>\n",
              "  </div>\n",
              "  "
            ]
          },
          "metadata": {},
          "execution_count": 12
        }
      ]
    },
    {
      "cell_type": "markdown",
      "source": [
        "#Finalmente Analisando o Dataset\n",
        "####Muito Bem, agora temos um pipeline de dados, mais normalizado do que o que tinhamos incialmente, agora todos os salários estão sendo contabilizados em Dolar e o tempo utilizado para avaliação dos salários esta anual, garantindo mais segurança em nossas futuras análises!\n"
      ],
      "metadata": {
        "id": "fi30w98nIcFh"
      }
    },
    {
      "cell_type": "markdown",
      "source": [
        "#### Menor Salario"
      ],
      "metadata": {
        "id": "aHz3XoVEMHr4"
      }
    },
    {
      "cell_type": "code",
      "source": [
        "dados['Salary_modified'].min()"
      ],
      "metadata": {
        "colab": {
          "base_uri": "https://localhost:8080/"
        },
        "id": "j7dDvdIEEES9",
        "outputId": "a94ae657-5c77-435f-973d-b344a75bf142"
      },
      "execution_count": null,
      "outputs": [
        {
          "output_type": "execute_result",
          "data": {
            "text/plain": [
              "1"
            ]
          },
          "metadata": {},
          "execution_count": 37
        }
      ]
    },
    {
      "cell_type": "markdown",
      "source": [
        "####Media Salarial"
      ],
      "metadata": {
        "id": "TW0TqfiIMT-t"
      }
    },
    {
      "cell_type": "code",
      "source": [
        "dados['Salary_modified'].mean()"
      ],
      "metadata": {
        "colab": {
          "base_uri": "https://localhost:8080/"
        },
        "id": "NL0YHshbHEs0",
        "outputId": "bba3b970-ba4c-4ae1-eb5b-49a81bb564ad"
      },
      "execution_count": null,
      "outputs": [
        {
          "output_type": "execute_result",
          "data": {
            "text/plain": [
              "12260.563393268787"
            ]
          },
          "metadata": {},
          "execution_count": 40
        }
      ]
    },
    {
      "cell_type": "markdown",
      "source": [
        "####Mediana salarial"
      ],
      "metadata": {
        "id": "-Np6jgkhMbXB"
      }
    },
    {
      "cell_type": "code",
      "source": [
        "dados['Salary_modified'].median()"
      ],
      "metadata": {
        "colab": {
          "base_uri": "https://localhost:8080/"
        },
        "id": "CZMlVAkUHQHz",
        "outputId": "7509c653-4055-4a02-9b32-c9c41f967974"
      },
      "execution_count": null,
      "outputs": [
        {
          "output_type": "execute_result",
          "data": {
            "text/plain": [
              "8142.5"
            ]
          },
          "metadata": {},
          "execution_count": 41
        }
      ]
    },
    {
      "cell_type": "markdown",
      "source": [
        "#### Moda salarial"
      ],
      "metadata": {
        "id": "QF-B1i-eMg3y"
      }
    },
    {
      "cell_type": "code",
      "source": [
        "dados['Salary_modified'].mode()[0]"
      ],
      "metadata": {
        "colab": {
          "base_uri": "https://localhost:8080/"
        },
        "id": "lkeyZT5wHSwT",
        "outputId": "6bd501f5-9d24-4083-ed66-8aeb8e7659fe"
      },
      "execution_count": null,
      "outputs": [
        {
          "output_type": "execute_result",
          "data": {
            "text/plain": [
              "13070"
            ]
          },
          "metadata": {},
          "execution_count": 43
        }
      ]
    },
    {
      "cell_type": "markdown",
      "source": [
        "####Desvio medio absoluto"
      ],
      "metadata": {
        "id": "sjpdUmpbMlW9"
      }
    },
    {
      "cell_type": "code",
      "source": [
        "dados['Salary_modified'].mad()"
      ],
      "metadata": {
        "colab": {
          "base_uri": "https://localhost:8080/"
        },
        "id": "xAj9Bt49HjqW",
        "outputId": "e8b71e35-bdf5-46e0-e643-a47058c7cf7f"
      },
      "execution_count": null,
      "outputs": [
        {
          "output_type": "execute_result",
          "data": {
            "text/plain": [
              "9969.046498281472"
            ]
          },
          "metadata": {},
          "execution_count": 47
        }
      ]
    },
    {
      "cell_type": "markdown",
      "source": [
        "####Desvio padrão  "
      ],
      "metadata": {
        "id": "2em-NKR7MzaF"
      }
    },
    {
      "cell_type": "code",
      "source": [
        "dados['Salary_modified'].std()"
      ],
      "metadata": {
        "colab": {
          "base_uri": "https://localhost:8080/"
        },
        "id": "pY4YQpX8HWCW",
        "outputId": "b4bbe826-6210-44d7-c368-2d0b47156d54"
      },
      "execution_count": null,
      "outputs": [
        {
          "output_type": "execute_result",
          "data": {
            "text/plain": [
              "50282.0291226228"
            ]
          },
          "metadata": {},
          "execution_count": 45
        }
      ]
    },
    {
      "cell_type": "markdown",
      "source": [
        "####Maior salário"
      ],
      "metadata": {
        "id": "o-4gpTdBM47U"
      }
    },
    {
      "cell_type": "code",
      "source": [
        "dados['Salary_modified'].max()"
      ],
      "metadata": {
        "colab": {
          "base_uri": "https://localhost:8080/"
        },
        "id": "bQoFBagyHBuc",
        "outputId": "1cbcdf3b-d61b-4bf7-8fdc-f3302fd8c66d"
      },
      "execution_count": null,
      "outputs": [
        {
          "output_type": "execute_result",
          "data": {
            "text/plain": [
              "2193991"
            ]
          },
          "metadata": {},
          "execution_count": 38
        }
      ]
    },
    {
      "cell_type": "code",
      "source": [
        "dados.query('Salary_modified <= 30000')[['Salary_modified']].describe()"
      ],
      "metadata": {
        "colab": {
          "base_uri": "https://localhost:8080/",
          "height": 300
        },
        "id": "6XedPCa0mqDp",
        "outputId": "19c141cc-f523-49a1-ab8d-20873463b5a0"
      },
      "execution_count": null,
      "outputs": [
        {
          "output_type": "execute_result",
          "data": {
            "text/plain": [
              "       Salary_modified\n",
              "count      4152.000000\n",
              "mean       8800.222062\n",
              "std        7353.879599\n",
              "min           1.000000\n",
              "25%        1317.000000\n",
              "50%        7880.000000\n",
              "75%       13481.750000\n",
              "max       29664.000000"
            ],
            "text/html": [
              "\n",
              "  <div id=\"df-9e4cc66c-b524-4191-9195-61ce5c09c669\">\n",
              "    <div class=\"colab-df-container\">\n",
              "      <div>\n",
              "<style scoped>\n",
              "    .dataframe tbody tr th:only-of-type {\n",
              "        vertical-align: middle;\n",
              "    }\n",
              "\n",
              "    .dataframe tbody tr th {\n",
              "        vertical-align: top;\n",
              "    }\n",
              "\n",
              "    .dataframe thead th {\n",
              "        text-align: right;\n",
              "    }\n",
              "</style>\n",
              "<table border=\"1\" class=\"dataframe\">\n",
              "  <thead>\n",
              "    <tr style=\"text-align: right;\">\n",
              "      <th></th>\n",
              "      <th>Salary_modified</th>\n",
              "    </tr>\n",
              "  </thead>\n",
              "  <tbody>\n",
              "    <tr>\n",
              "      <th>count</th>\n",
              "      <td>4152.000000</td>\n",
              "    </tr>\n",
              "    <tr>\n",
              "      <th>mean</th>\n",
              "      <td>8800.222062</td>\n",
              "    </tr>\n",
              "    <tr>\n",
              "      <th>std</th>\n",
              "      <td>7353.879599</td>\n",
              "    </tr>\n",
              "    <tr>\n",
              "      <th>min</th>\n",
              "      <td>1.000000</td>\n",
              "    </tr>\n",
              "    <tr>\n",
              "      <th>25%</th>\n",
              "      <td>1317.000000</td>\n",
              "    </tr>\n",
              "    <tr>\n",
              "      <th>50%</th>\n",
              "      <td>7880.000000</td>\n",
              "    </tr>\n",
              "    <tr>\n",
              "      <th>75%</th>\n",
              "      <td>13481.750000</td>\n",
              "    </tr>\n",
              "    <tr>\n",
              "      <th>max</th>\n",
              "      <td>29664.000000</td>\n",
              "    </tr>\n",
              "  </tbody>\n",
              "</table>\n",
              "</div>\n",
              "      <button class=\"colab-df-convert\" onclick=\"convertToInteractive('df-9e4cc66c-b524-4191-9195-61ce5c09c669')\"\n",
              "              title=\"Convert this dataframe to an interactive table.\"\n",
              "              style=\"display:none;\">\n",
              "        \n",
              "  <svg xmlns=\"http://www.w3.org/2000/svg\" height=\"24px\"viewBox=\"0 0 24 24\"\n",
              "       width=\"24px\">\n",
              "    <path d=\"M0 0h24v24H0V0z\" fill=\"none\"/>\n",
              "    <path d=\"M18.56 5.44l.94 2.06.94-2.06 2.06-.94-2.06-.94-.94-2.06-.94 2.06-2.06.94zm-11 1L8.5 8.5l.94-2.06 2.06-.94-2.06-.94L8.5 2.5l-.94 2.06-2.06.94zm10 10l.94 2.06.94-2.06 2.06-.94-2.06-.94-.94-2.06-.94 2.06-2.06.94z\"/><path d=\"M17.41 7.96l-1.37-1.37c-.4-.4-.92-.59-1.43-.59-.52 0-1.04.2-1.43.59L10.3 9.45l-7.72 7.72c-.78.78-.78 2.05 0 2.83L4 21.41c.39.39.9.59 1.41.59.51 0 1.02-.2 1.41-.59l7.78-7.78 2.81-2.81c.8-.78.8-2.07 0-2.86zM5.41 20L4 18.59l7.72-7.72 1.47 1.35L5.41 20z\"/>\n",
              "  </svg>\n",
              "      </button>\n",
              "      \n",
              "  <style>\n",
              "    .colab-df-container {\n",
              "      display:flex;\n",
              "      flex-wrap:wrap;\n",
              "      gap: 12px;\n",
              "    }\n",
              "\n",
              "    .colab-df-convert {\n",
              "      background-color: #E8F0FE;\n",
              "      border: none;\n",
              "      border-radius: 50%;\n",
              "      cursor: pointer;\n",
              "      display: none;\n",
              "      fill: #1967D2;\n",
              "      height: 32px;\n",
              "      padding: 0 0 0 0;\n",
              "      width: 32px;\n",
              "    }\n",
              "\n",
              "    .colab-df-convert:hover {\n",
              "      background-color: #E2EBFA;\n",
              "      box-shadow: 0px 1px 2px rgba(60, 64, 67, 0.3), 0px 1px 3px 1px rgba(60, 64, 67, 0.15);\n",
              "      fill: #174EA6;\n",
              "    }\n",
              "\n",
              "    [theme=dark] .colab-df-convert {\n",
              "      background-color: #3B4455;\n",
              "      fill: #D2E3FC;\n",
              "    }\n",
              "\n",
              "    [theme=dark] .colab-df-convert:hover {\n",
              "      background-color: #434B5C;\n",
              "      box-shadow: 0px 1px 3px 1px rgba(0, 0, 0, 0.15);\n",
              "      filter: drop-shadow(0px 1px 2px rgba(0, 0, 0, 0.3));\n",
              "      fill: #FFFFFF;\n",
              "    }\n",
              "  </style>\n",
              "\n",
              "      <script>\n",
              "        const buttonEl =\n",
              "          document.querySelector('#df-9e4cc66c-b524-4191-9195-61ce5c09c669 button.colab-df-convert');\n",
              "        buttonEl.style.display =\n",
              "          google.colab.kernel.accessAllowed ? 'block' : 'none';\n",
              "\n",
              "        async function convertToInteractive(key) {\n",
              "          const element = document.querySelector('#df-9e4cc66c-b524-4191-9195-61ce5c09c669');\n",
              "          const dataTable =\n",
              "            await google.colab.kernel.invokeFunction('convertToInteractive',\n",
              "                                                     [key], {});\n",
              "          if (!dataTable) return;\n",
              "\n",
              "          const docLinkHtml = 'Like what you see? Visit the ' +\n",
              "            '<a target=\"_blank\" href=https://colab.research.google.com/notebooks/data_table.ipynb>data table notebook</a>'\n",
              "            + ' to learn more about interactive tables.';\n",
              "          element.innerHTML = '';\n",
              "          dataTable['output_type'] = 'display_data';\n",
              "          await google.colab.output.renderOutput(dataTable, element);\n",
              "          const docLink = document.createElement('div');\n",
              "          docLink.innerHTML = docLinkHtml;\n",
              "          element.appendChild(docLink);\n",
              "        }\n",
              "      </script>\n",
              "    </div>\n",
              "  </div>\n",
              "  "
            ]
          },
          "metadata": {},
          "execution_count": 73
        }
      ]
    },
    {
      "cell_type": "code",
      "source": [
        "ax = dados.query('Salary_modified <= 30000')[['Salary_modified']].hist(color = 'purple', alpha=0.5, bins=10, figsize=(12,6))"
      ],
      "metadata": {
        "colab": {
          "base_uri": "https://localhost:8080/",
          "height": 390
        },
        "id": "3VQ6J_VdH6Fs",
        "outputId": "cad8ad4c-7627-414e-c33d-e42e96bc3d47"
      },
      "execution_count": null,
      "outputs": [
        {
          "output_type": "display_data",
          "data": {
            "text/plain": [
              "<Figure size 864x432 with 1 Axes>"
            ],
            "image/png": "[encoded data removed]"
          },
          "metadata": {
            "needs_background": "light"
          }
        }
      ]
    }
  ],
  "metadata": {
    "colab": {
      "name": "SalarioDataScience-DatasSet.ipynb",
      "provenance": [],
      "collapsed_sections": []
    },
    "kernelspec": {
      "display_name": "Python 3",
      "name": "python3"
    },
    "language_info": {
      "name": "python"
    }
  },
  "nbformat": 4,
  "nbformat_minor": 0
}